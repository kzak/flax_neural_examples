{
 "cells": [
  {
   "cell_type": "markdown",
   "id": "ab380c02-de43-4164-87ce-3c15ad2db5a1",
   "metadata": {},
   "source": [
    "# Load Modules"
   ]
  },
  {
   "cell_type": "code",
   "execution_count": 1,
   "id": "13073661-8552-406f-8c41-03a1dee9e1df",
   "metadata": {},
   "outputs": [],
   "source": [
    "\n",
    "import jax\n",
    "import jax.numpy as jnp\n",
    "import matplotlib.pyplot as plt\n",
    "import numpy as np\n",
    "import optax\n",
    "import sklearn.linear_model\n",
    "import sklearn.metrics\n",
    "import tqdm\n",
    "from flax import nnx\n",
    "from sklearn.datasets import load_breast_cancer\n",
    "from sklearn.model_selection import train_test_split\n",
    "from sklearn.preprocessing import StandardScaler"
   ]
  },
  {
   "cell_type": "markdown",
   "id": "e605defe-be06-4da4-93ee-1c135cf20917",
   "metadata": {},
   "source": [
    "# Data Loading"
   ]
  },
  {
   "cell_type": "code",
   "execution_count": 2,
   "id": "af940a5f-9882-4c64-8fec-5706de9579f1",
   "metadata": {},
   "outputs": [
    {
     "data": {
      "text/plain": [
       "((455, 30), (114, 30))"
      ]
     },
     "execution_count": 2,
     "metadata": {},
     "output_type": "execute_result"
    }
   ],
   "source": [
    "data = load_breast_cancer()\n",
    "# print(data[\"DESCR\"])\n",
    "\n",
    "X, y = data[\"data\"], data[\"target\"].reshape(-1, 1)\n",
    "X = StandardScaler().fit_transform(X)\n",
    "X_train, X_test, y_train, y_test = train_test_split(X, y, test_size=0.2)\n",
    "\n",
    "X_train.shape, X_test.shape"
   ]
  },
  {
   "cell_type": "markdown",
   "id": "04752c32-07b1-4945-9587-62fd10a731e9",
   "metadata": {},
   "source": [
    "# Modeling"
   ]
  },
  {
   "cell_type": "code",
   "execution_count": 3,
   "id": "7179a90f-f9c3-49b8-ab83-0bdbe2ab2fb3",
   "metadata": {},
   "outputs": [],
   "source": [
    "class LogisticRegressor(nnx.Module):\n",
    "    def __init__(self, din: int, rngs: nnx.Rngs):\n",
    "        self.linear = nnx.Linear(din, 1, rngs=rngs)\n",
    "\n",
    "    def __call__(self, x: jax.Array):\n",
    "        y = nnx.sigmoid(self.linear(x))\n",
    "        return y"
   ]
  },
  {
   "cell_type": "markdown",
   "id": "22b0217c-7104-4906-a21b-d53d7711123b",
   "metadata": {},
   "source": [
    "# Training"
   ]
  },
  {
   "cell_type": "code",
   "execution_count": 4,
   "id": "004a948d-ce53-414e-b2c6-f9a38229a0c1",
   "metadata": {},
   "outputs": [],
   "source": [
    "@nnx.jit\n",
    "def train_step(model, optimizer, x, y):\n",
    "    def loss_fn(model):\n",
    "        logits = model(x)\n",
    "        loss = optax.losses.sigmoid_binary_cross_entropy(logits, y).mean()\n",
    "        return loss\n",
    "\n",
    "    loss, grads = nnx.value_and_grad(loss_fn)(model)\n",
    "    optimizer.update(grads)\n",
    "\n",
    "    return loss"
   ]
  },
  {
   "cell_type": "code",
   "execution_count": 5,
   "id": "3b9338e4-c0c3-4f5b-a164-f7b61c78e8f6",
   "metadata": {},
   "outputs": [],
   "source": [
    "def train_loop(model, optimizer, X, y, n_epochs=32, n_batch_size=32):\n",
    "    all_ilocs = np.arange(len(X))\n",
    "    n_split = len(all_ilocs) // n_batch_size\n",
    "\n",
    "    with tqdm.trange(1, n_epochs + 1) as progress_bar:\n",
    "        for epoch in progress_bar:\n",
    "            ilocs_batches = jnp.array_split(\n",
    "                jax.random.permutation(jax.random.PRNGKey(epoch), all_ilocs),\n",
    "                n_split,\n",
    "            )\n",
    "\n",
    "            batch_loss = np.zeros(len(ilocs_batches))\n",
    "            for i, _ilocs in enumerate(ilocs_batches):\n",
    "                batch_loss[i] = train_step(model, optimizer, X[_ilocs], y[_ilocs])\n",
    "\n",
    "            progress_bar.set_postfix(dict(epoch_loss=f\"{batch_loss.mean():.3f}\"))"
   ]
  },
  {
   "cell_type": "code",
   "execution_count": 6,
   "id": "2999b3f2-387f-4653-b459-4c0f4b1b80ca",
   "metadata": {},
   "outputs": [
    {
     "name": "stderr",
     "output_type": "stream",
     "text": [
      "100%|██████████████████████████████████████████████████████████| 1000/1000 [00:06<00:00, 155.91it/s, epoch_loss=0.460]\n"
     ]
    }
   ],
   "source": [
    "model = LogisticRegressor(X_train.shape[1], rngs=nnx.Rngs(0))\n",
    "optimizer = nnx.Optimizer(model, optax.adam(1.0e-3))\n",
    "\n",
    "train_loop(model, optimizer, X_train, y_train, n_epochs=1000, n_batch_size=64)"
   ]
  },
  {
   "cell_type": "markdown",
   "id": "ec78a59d-07fb-46e0-beb4-4357e20d6625",
   "metadata": {},
   "source": [
    "# Evaluation"
   ]
  },
  {
   "cell_type": "code",
   "execution_count": 7,
   "id": "5b992bb2-4d71-462e-9176-57e8b56b0e15",
   "metadata": {},
   "outputs": [
    {
     "data": {
      "text/plain": [
       "<matplotlib.legend.Legend at 0x7fe0cc2b63f0>"
      ]
     },
     "execution_count": 7,
     "metadata": {},
     "output_type": "execute_result"
    },
    {
     "data": {
      "image/png": "[encoded data removed]",
      "text/plain": [
       "<Figure size 640x480 with 1 Axes>"
      ]
     },
     "metadata": {},
     "output_type": "display_data"
    }
   ],
   "source": [
    "# Baseline models\n",
    "lr = sklearn.linear_model.LogisticRegression().fit(X_train, y_train.ravel())\n",
    "\n",
    "\n",
    "# Predictions\n",
    "preds_flax = (model(X_test).ravel() > 0.5).astype(int)\n",
    "preds_lr = lr.predict(X_test)\n",
    "\n",
    "# Plots\n",
    "_ix = np.argsort(y_test.ravel())\n",
    "plt.plot(y_test[_ix], label=\"y_true\", alpha=0.5)\n",
    "plt.plot(preds_flax[_ix], label=\"Flax\", alpha=0.5)\n",
    "plt.plot(preds_lr[_ix], label=\"scikit-learn\", alpha=0.5)\n",
    "plt.legend()"
   ]
  },
  {
   "cell_type": "code",
   "execution_count": null,
   "id": "49aefe9f-0e15-4ed1-9013-5df0028e42e0",
   "metadata": {},
   "outputs": [],
   "source": []
  }
 ],
 "metadata": {
  "kernelspec": {
   "display_name": "Python 3 (ipykernel)",
   "language": "python",
   "name": "python3"
  },
  "language_info": {
   "codemirror_mode": {
    "name": "ipython",
    "version": 3
   },
   "file_extension": ".py",
   "mimetype": "text/x-python",
   "name": "python",
   "nbconvert_exporter": "python",
   "pygments_lexer": "ipython3",
   "version": "3.12.7"
  }
 },
 "nbformat": 4,
 "nbformat_minor": 5
}
